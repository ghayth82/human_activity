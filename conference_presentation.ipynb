{
 "cells": [
  {
   "cell_type": "markdown",
   "metadata": {},
   "source": [
    "### Data Challenge '17\n",
    "\n",
    "+ Given the time series of the x, y, z accelerometer readings from a cell phone, identify the activity that the user is executing\n",
    "+ Sampling rate: 20Hz (1 sample every 50ms, generally but not always the case)\n",
    "+ The acceleration recorded includes gravitational acceleration toward the center of the Earth, so that when the phone is at rest on a flat surface the vertical axis will register +10 or -10.\n",
    "+ 2,000,000 train examples\n",
    "+ 836,011 unlabeled examples "
   ]
  },
  {
   "cell_type": "code",
   "execution_count": 16,
   "metadata": {},
   "outputs": [
    {
     "data": {
      "text/html": [
       "<div>\n",
       "<table border=\"1\" class=\"dataframe\">\n",
       "  <thead>\n",
       "    <tr style=\"text-align: right;\">\n",
       "      <th></th>\n",
       "      <th>id</th>\n",
       "      <th>timestamp</th>\n",
       "      <th>activity</th>\n",
       "      <th>x</th>\n",
       "      <th>y</th>\n",
       "      <th>z</th>\n",
       "    </tr>\n",
       "  </thead>\n",
       "  <tbody>\n",
       "    <tr>\n",
       "      <th>0</th>\n",
       "      <td>304</td>\n",
       "      <td>1370520469556</td>\n",
       "      <td>Walking</td>\n",
       "      <td>0.294132</td>\n",
       "      <td>-0.635605</td>\n",
       "      <td>-0.226936</td>\n",
       "    </tr>\n",
       "    <tr>\n",
       "      <th>1</th>\n",
       "      <td>304</td>\n",
       "      <td>1370520469606</td>\n",
       "      <td>Walking</td>\n",
       "      <td>-0.499688</td>\n",
       "      <td>-0.604451</td>\n",
       "      <td>-0.226020</td>\n",
       "    </tr>\n",
       "    <tr>\n",
       "      <th>2</th>\n",
       "      <td>304</td>\n",
       "      <td>1370520469656</td>\n",
       "      <td>Walking</td>\n",
       "      <td>-2.178345</td>\n",
       "      <td>0.713491</td>\n",
       "      <td>0.372017</td>\n",
       "    </tr>\n",
       "    <tr>\n",
       "      <th>3</th>\n",
       "      <td>304</td>\n",
       "      <td>1370520469706</td>\n",
       "      <td>Walking</td>\n",
       "      <td>-2.797763</td>\n",
       "      <td>1.354899</td>\n",
       "      <td>-0.277638</td>\n",
       "    </tr>\n",
       "    <tr>\n",
       "      <th>4</th>\n",
       "      <td>304</td>\n",
       "      <td>1370520469756</td>\n",
       "      <td>Walking</td>\n",
       "      <td>-2.167961</td>\n",
       "      <td>-1.327716</td>\n",
       "      <td>-0.554971</td>\n",
       "    </tr>\n",
       "    <tr>\n",
       "      <th>5</th>\n",
       "      <td>304</td>\n",
       "      <td>1370520469806</td>\n",
       "      <td>Walking</td>\n",
       "      <td>-1.734857</td>\n",
       "      <td>0.818559</td>\n",
       "      <td>-0.165544</td>\n",
       "    </tr>\n",
       "    <tr>\n",
       "      <th>6</th>\n",
       "      <td>304</td>\n",
       "      <td>1370520469856</td>\n",
       "      <td>Walking</td>\n",
       "      <td>-1.463939</td>\n",
       "      <td>0.835969</td>\n",
       "      <td>0.411112</td>\n",
       "    </tr>\n",
       "    <tr>\n",
       "      <th>7</th>\n",
       "      <td>304</td>\n",
       "      <td>1370520469906</td>\n",
       "      <td>Walking</td>\n",
       "      <td>-0.945008</td>\n",
       "      <td>1.085202</td>\n",
       "      <td>0.395230</td>\n",
       "    </tr>\n",
       "    <tr>\n",
       "      <th>8</th>\n",
       "      <td>304</td>\n",
       "      <td>1370520469956</td>\n",
       "      <td>Walking</td>\n",
       "      <td>0.182038</td>\n",
       "      <td>0.281303</td>\n",
       "      <td>0.534202</td>\n",
       "    </tr>\n",
       "    <tr>\n",
       "      <th>9</th>\n",
       "      <td>304</td>\n",
       "      <td>1370520470006</td>\n",
       "      <td>Walking</td>\n",
       "      <td>0.948368</td>\n",
       "      <td>0.078496</td>\n",
       "      <td>0.564745</td>\n",
       "    </tr>\n",
       "  </tbody>\n",
       "</table>\n",
       "</div>"
      ],
      "text/plain": [
       "    id      timestamp activity         x         y         z\n",
       "0  304  1370520469556  Walking  0.294132 -0.635605 -0.226936\n",
       "1  304  1370520469606  Walking -0.499688 -0.604451 -0.226020\n",
       "2  304  1370520469656  Walking -2.178345  0.713491  0.372017\n",
       "3  304  1370520469706  Walking -2.797763  1.354899 -0.277638\n",
       "4  304  1370520469756  Walking -2.167961 -1.327716 -0.554971\n",
       "5  304  1370520469806  Walking -1.734857  0.818559 -0.165544\n",
       "6  304  1370520469856  Walking -1.463939  0.835969  0.411112\n",
       "7  304  1370520469906  Walking -0.945008  1.085202  0.395230\n",
       "8  304  1370520469956  Walking  0.182038  0.281303  0.534202\n",
       "9  304  1370520470006  Walking  0.948368  0.078496  0.564745"
      ]
     },
     "execution_count": 16,
     "metadata": {},
     "output_type": "execute_result"
    }
   ],
   "source": [
    "import pandas as pd\n",
    "root_dir = \"C:/Users/rarez/Documents/Data Science/human_activity/data/\"\n",
    "\n",
    "train_raw_data = pd.read_csv(root_dir + \"train_raw.csv\")\n",
    "\n",
    "train_raw_data.head(10)\n"
   ]
  },
  {
   "cell_type": "code",
   "execution_count": 23,
   "metadata": {},
   "outputs": [
    {
     "data": {
      "text/plain": [
       "activity\n",
       "Jogging      14.74\n",
       "LyingDown    10.81\n",
       "Sitting      24.86\n",
       "Stairs        1.71\n",
       "Standing      8.93\n",
       "Walking      38.96\n",
       "dtype: float64"
      ]
     },
     "execution_count": 23,
     "metadata": {},
     "output_type": "execute_result"
    }
   ],
   "source": [
    "grouped = train_raw_data.groupby('activity').size()\n",
    "grouped = round(100*grouped/len(train_raw_data),2)\n",
    "grouped"
   ]
  },
  {
   "cell_type": "markdown",
   "metadata": {},
   "source": [
    "### Algorithm\n",
    "+ XGBoost - extremely fast implementation of Gradient Boosting Machines (boosted trees)\n",
    "\n",
    "### Methodology \n",
    "+ 25 seconds rolling windows with no overlapping\n",
    "\n",
    "### Features\n",
    "+ 38 features\n",
    "+ First 4 moments (mean, variance, skewness, kurtosis) of x, y, z, magnitude (||a||) and their derivatives (32 features)\n",
    "+ 3 correlations and 3 eigenvalues of correlation matrix (6 features)\n",
    "\n"
   ]
  },
  {
   "cell_type": "markdown",
   "metadata": {},
   "source": [
    "### Cross Validation\n",
    "\n",
    "Using simple Stratified K-Folds (folds are made by preserving the percentage of samples for each class) to generate train and test splits in cross-validation can lead to artificially high accuracies:\n"
   ]
  },
  {
   "cell_type": "markdown",
   "metadata": {},
   "source": [
    "Group K-Folds cross-validation is fundamental in this case to guarantee that samples are really independent\n",
    "+ Activity examples are highly correlated for each individual user\n",
    "+ Each user id is considered a different group\n",
    "+ Group K-Folds guarantees that, in a given split, no user id appears simultaneously in train and test sets\n",
    "\n",
    "Accuracy results are very different when we start testing our model using examples that it has actually never seen before:"
   ]
  },
  {
   "cell_type": "code",
   "execution_count": 76,
   "metadata": {
    "collapsed": true,
    "nbpresent": {
     "id": "88e17bfc-34a6-49a6-a42e-bb7cd0a3696d"
    }
   },
   "outputs": [],
   "source": [
    "import time\n",
    "import pandas as pd\n",
    "import numpy as np\n",
    "import xgboost as xgb\n",
    "from collections import Counter\n",
    "from sklearn.metrics import accuracy_score\n",
    "from sklearn.metrics import confusion_matrix\n",
    "from sklearn.model_selection import GroupKFold\n",
    "from sklearn.model_selection import StratifiedKFold\n",
    "\n",
    "root_dir = \"C:/Users/rarez/Documents/Data Science/human_activity/data/\"\n",
    "\n",
    "train_dirt_data = pd.read_csv(root_dir + \"train_dirt.csv\")\n",
    "train_data = pd.read_csv(root_dir + \"train.csv\")\n",
    "\n",
    "activities = {0 : \"Jogging\", 1 : \"LyingDown\", 2 : \"Sitting\",\n",
    "              3 : \"Stairs\" , 4 : \"Standing\",  5 : \"Walking\"}"
   ]
  },
  {
   "cell_type": "code",
   "execution_count": 77,
   "metadata": {},
   "outputs": [
    {
     "name": "stdout",
     "output_type": "stream",
     "text": [
      "Train set accuracy: 1.000 (+/- 0.000)\n",
      "Test set accuracy:  0.826 (+/- 0.007)\n",
      "\n",
      "Folds accuracy:\n",
      "[ 0.82663092  0.81636608  0.83693224  0.82602862]\n",
      "\n",
      "Test set accuracy for 0: 0.948 (Jogging)\n",
      "Test set accuracy for 1: 0.064 (LyingDown)\n",
      "Test set accuracy for 2: 0.747 (Sitting)\n",
      "Test set accuracy for 3: 0.004 (Stairs)\n",
      "Test set accuracy for 4: 0.746 (Standing)\n",
      "Test set accuracy for 5: 0.926 (Walking)\n",
      "\n",
      "Confusion Matrix:\n",
      "[[1370    0   40    1    4  142]\n",
      " [   0    1  140    0    9    3]\n",
      " [   2   91  679    0  130  133]\n",
      " [  40    0    0    0    0   76]\n",
      " [   1    1   39    0  338   44]\n",
      " [ 129    8   57   17   60 3153]]\n"
     ]
    }
   ],
   "source": [
    "param = dict()\n",
    "param['objective'] = 'multi:softmax'\n",
    "param['num_class'] = 6\n",
    "param['updater'] = 'grow_gpu_hist'\n",
    "param['max_depth'] = 6\n",
    "param['min_child_weight'] = 0\n",
    "param['gamma'] = 0\n",
    "param['reg_lambda'] = 1\n",
    "param['reg_alpha'] = 0\n",
    "param['subsample'] = 0.5\n",
    "param['colsample_bytree'] = 0.5\n",
    "param['learning_rate'] = 0.3\n",
    "num_round = 100\n",
    "\n",
    "'''\n",
    "X = train_dirt_data.loc[:, 'mean_x':].values\n",
    "y = train_dirt_data.loc[:, 'activity_id'].values\n",
    "groups = train_dirt_data.loc[:, 'user_id'].values    \n",
    "'''\n",
    "X = train_data.loc[:, 'mean_x':].values\n",
    "y = train_data.loc[:, 'activity_id'].values\n",
    "groups = train_data.loc[:, 'user_id'].values    \n",
    "\n",
    "#skf = StratifiedKFold(n_splits=4, shuffle = True, random_state = 31416)\n",
    "gkf = GroupKFold(n_splits=4)\n",
    "\n",
    "\n",
    "scores_test = []\n",
    "scores_train = []\n",
    "accuracy = []\n",
    "for i in range(6):\n",
    "    accuracy.append(list())\n",
    "    \n",
    "#for train_index, test_index in skf.split(X, y):\n",
    "for train_index, test_index in gkf.split(X, y, groups):\n",
    "    \n",
    "    X_train, X_test = X[train_index], X[test_index]\n",
    "    y_train, y_test = y[train_index], y[test_index]\n",
    "    \n",
    "    dtrain = xgb.DMatrix(X_train, y_train)\n",
    "    classifier = xgb.train(param, dtrain, num_round)\n",
    "\n",
    "    dpred = xgb.DMatrix(X_train)\n",
    "    y_pred = classifier.predict(dpred)\n",
    "    scores_train.append(accuracy_score(y_train, y_pred))\n",
    "\n",
    "    dpred = xgb.DMatrix(X_test)\n",
    "    y_pred = classifier.predict(dpred)\n",
    "    scores_test.append(accuracy_score(y_test, y_pred))\n",
    "    \n",
    "    for i in range(6):\n",
    "        accuracy[i].append(sum((y_pred == i) & (y_pred == y_test))/sum(y_test == i))\n",
    "    \n",
    "scores_train = np.array(scores_train)\n",
    "scores_test = np.array(scores_test)\n",
    "\n",
    "for i in range(6):\n",
    "    accuracy[i] = np.array(accuracy[i])\n",
    "    \n",
    "\n",
    "print(\"Train set accuracy: {:.3f} (+/- {:.3f})\".format(scores_train.mean(), scores_train.std()))\n",
    "print(\"Test set accuracy:  {:.3f} (+/- {:.3f})\".format(scores_test.mean(), scores_test.std()))\n",
    "print()\n",
    "print(\"Folds accuracy:\")\n",
    "print(scores_test)\n",
    "print()\n",
    "for i in range(6):\n",
    "    print(\"Test set accuracy for {}: {:.3f} ({})\".format(i, accuracy[i].mean(), activities[i]))\n",
    "\n",
    "print()    \n",
    "print(\"Confusion Matrix:\")\n",
    "print(confusion_matrix(y_test, y_pred))\n",
    "    "
   ]
  },
  {
   "cell_type": "markdown",
   "metadata": {},
   "source": [
    "Let's investigate the user composition of the first fold:"
   ]
  },
  {
   "cell_type": "code",
   "execution_count": 50,
   "metadata": {},
   "outputs": [
    {
     "data": {
      "text/plain": [
       "Counter({115: 263,\n",
       "         130: 21,\n",
       "         175: 119,\n",
       "         209: 88,\n",
       "         219: 27,\n",
       "         220: 100,\n",
       "         223: 11,\n",
       "         227: 28,\n",
       "         239: 112,\n",
       "         246: 39,\n",
       "         249: 212,\n",
       "         262: 20,\n",
       "         302: 310,\n",
       "         320: 98,\n",
       "         326: 72,\n",
       "         332: 48,\n",
       "         341: 49,\n",
       "         349: 117,\n",
       "         352: 131,\n",
       "         358: 7390})"
      ]
     },
     "execution_count": 50,
     "metadata": {},
     "output_type": "execute_result"
    }
   ],
   "source": [
    "gkf = list(GroupKFold(n_splits=4).split(X, y, groups))\n",
    "\n",
    "train_index, test_index = gkf[0]\n",
    "\n",
    "X_train, X_test = X[train_index], X[test_index]\n",
    "y_train, y_test = y[train_index], y[test_index]\n",
    "\n",
    "Counter(train_dirt_data.iloc[test_index]['user_id'])"
   ]
  },
  {
   "cell_type": "code",
   "execution_count": 45,
   "metadata": {},
   "outputs": [
    {
     "data": {
      "text/html": [
       "<div>\n",
       "<table border=\"1\" class=\"dataframe\">\n",
       "  <thead>\n",
       "    <tr style=\"text-align: right;\">\n",
       "      <th></th>\n",
       "      <th>user_id</th>\n",
       "      <th>activity_id</th>\n",
       "      <th>win_begin_idx</th>\n",
       "      <th>win_end_idx</th>\n",
       "      <th>mean_x</th>\n",
       "      <th>mean_y</th>\n",
       "      <th>mean_z</th>\n",
       "      <th>mean_mag</th>\n",
       "    </tr>\n",
       "  </thead>\n",
       "  <tbody>\n",
       "    <tr>\n",
       "      <th>6751</th>\n",
       "      <td>358</td>\n",
       "      <td>4</td>\n",
       "      <td>337550</td>\n",
       "      <td>337599</td>\n",
       "      <td>0.004387</td>\n",
       "      <td>0.033789</td>\n",
       "      <td>0.555472</td>\n",
       "      <td>0.652046</td>\n",
       "    </tr>\n",
       "    <tr>\n",
       "      <th>6752</th>\n",
       "      <td>358</td>\n",
       "      <td>4</td>\n",
       "      <td>337600</td>\n",
       "      <td>337649</td>\n",
       "      <td>-0.020275</td>\n",
       "      <td>0.066181</td>\n",
       "      <td>-0.015809</td>\n",
       "      <td>0.473797</td>\n",
       "    </tr>\n",
       "    <tr>\n",
       "      <th>6753</th>\n",
       "      <td>358</td>\n",
       "      <td>4</td>\n",
       "      <td>337650</td>\n",
       "      <td>337699</td>\n",
       "      <td>-0.010263</td>\n",
       "      <td>0.004197</td>\n",
       "      <td>0.011564</td>\n",
       "      <td>0.069590</td>\n",
       "    </tr>\n",
       "    <tr>\n",
       "      <th>6754</th>\n",
       "      <td>358</td>\n",
       "      <td>4</td>\n",
       "      <td>337700</td>\n",
       "      <td>337749</td>\n",
       "      <td>0.004581</td>\n",
       "      <td>-0.032034</td>\n",
       "      <td>0.011826</td>\n",
       "      <td>0.162264</td>\n",
       "    </tr>\n",
       "    <tr>\n",
       "      <th>6755</th>\n",
       "      <td>358</td>\n",
       "      <td>4</td>\n",
       "      <td>337750</td>\n",
       "      <td>337799</td>\n",
       "      <td>0.054165</td>\n",
       "      <td>0.017917</td>\n",
       "      <td>0.000031</td>\n",
       "      <td>0.122356</td>\n",
       "    </tr>\n",
       "    <tr>\n",
       "      <th>6756</th>\n",
       "      <td>358</td>\n",
       "      <td>4</td>\n",
       "      <td>337800</td>\n",
       "      <td>337849</td>\n",
       "      <td>-0.060561</td>\n",
       "      <td>-0.010397</td>\n",
       "      <td>0.008699</td>\n",
       "      <td>0.376230</td>\n",
       "    </tr>\n",
       "    <tr>\n",
       "      <th>6757</th>\n",
       "      <td>358</td>\n",
       "      <td>4</td>\n",
       "      <td>337850</td>\n",
       "      <td>337899</td>\n",
       "      <td>-0.001491</td>\n",
       "      <td>-0.064459</td>\n",
       "      <td>0.004740</td>\n",
       "      <td>0.139017</td>\n",
       "    </tr>\n",
       "    <tr>\n",
       "      <th>6758</th>\n",
       "      <td>358</td>\n",
       "      <td>4</td>\n",
       "      <td>337900</td>\n",
       "      <td>337949</td>\n",
       "      <td>0.015088</td>\n",
       "      <td>0.011008</td>\n",
       "      <td>0.020641</td>\n",
       "      <td>0.316159</td>\n",
       "    </tr>\n",
       "    <tr>\n",
       "      <th>6759</th>\n",
       "      <td>358</td>\n",
       "      <td>4</td>\n",
       "      <td>337950</td>\n",
       "      <td>337999</td>\n",
       "      <td>-0.030262</td>\n",
       "      <td>0.006512</td>\n",
       "      <td>0.016426</td>\n",
       "      <td>0.128551</td>\n",
       "    </tr>\n",
       "    <tr>\n",
       "      <th>6760</th>\n",
       "      <td>358</td>\n",
       "      <td>4</td>\n",
       "      <td>338000</td>\n",
       "      <td>338049</td>\n",
       "      <td>-0.013421</td>\n",
       "      <td>-0.036212</td>\n",
       "      <td>-0.003879</td>\n",
       "      <td>0.209843</td>\n",
       "    </tr>\n",
       "    <tr>\n",
       "      <th>6761</th>\n",
       "      <td>358</td>\n",
       "      <td>4</td>\n",
       "      <td>338050</td>\n",
       "      <td>338099</td>\n",
       "      <td>0.070989</td>\n",
       "      <td>0.027556</td>\n",
       "      <td>-0.056371</td>\n",
       "      <td>0.538884</td>\n",
       "    </tr>\n",
       "    <tr>\n",
       "      <th>6762</th>\n",
       "      <td>358</td>\n",
       "      <td>4</td>\n",
       "      <td>338100</td>\n",
       "      <td>338149</td>\n",
       "      <td>-0.039370</td>\n",
       "      <td>-0.017776</td>\n",
       "      <td>0.040665</td>\n",
       "      <td>0.363431</td>\n",
       "    </tr>\n",
       "  </tbody>\n",
       "</table>\n",
       "</div>"
      ],
      "text/plain": [
       "      user_id  activity_id  win_begin_idx  win_end_idx    mean_x    mean_y  \\\n",
       "6751      358            4         337550       337599  0.004387  0.033789   \n",
       "6752      358            4         337600       337649 -0.020275  0.066181   \n",
       "6753      358            4         337650       337699 -0.010263  0.004197   \n",
       "6754      358            4         337700       337749  0.004581 -0.032034   \n",
       "6755      358            4         337750       337799  0.054165  0.017917   \n",
       "6756      358            4         337800       337849 -0.060561 -0.010397   \n",
       "6757      358            4         337850       337899 -0.001491 -0.064459   \n",
       "6758      358            4         337900       337949  0.015088  0.011008   \n",
       "6759      358            4         337950       337999 -0.030262  0.006512   \n",
       "6760      358            4         338000       338049 -0.013421 -0.036212   \n",
       "6761      358            4         338050       338099  0.070989  0.027556   \n",
       "6762      358            4         338100       338149 -0.039370 -0.017776   \n",
       "\n",
       "        mean_z  mean_mag  \n",
       "6751  0.555472  0.652046  \n",
       "6752 -0.015809  0.473797  \n",
       "6753  0.011564  0.069590  \n",
       "6754  0.011826  0.162264  \n",
       "6755  0.000031  0.122356  \n",
       "6756  0.008699  0.376230  \n",
       "6757  0.004740  0.139017  \n",
       "6758  0.020641  0.316159  \n",
       "6759  0.016426  0.128551  \n",
       "6760 -0.003879  0.209843  \n",
       "6761 -0.056371  0.538884  \n",
       "6762  0.040665  0.363431  "
      ]
     },
     "execution_count": 45,
     "metadata": {},
     "output_type": "execute_result"
    }
   ],
   "source": [
    "train_358 = train_dirt_data.iloc[test_index]\n",
    "train_358 = train_358[train_358.user_id==358]\n",
    "train_358.loc[:,'user_id':'mean_mag'].head(12)"
   ]
  },
  {
   "cell_type": "code",
   "execution_count": 62,
   "metadata": {},
   "outputs": [
    {
     "data": {
      "image/png": "[encoded data removed]",
      "text/plain": [
       "<matplotlib.figure.Figure at 0x218126eff28>"
      ]
     },
     "metadata": {},
     "output_type": "display_data"
    }
   ],
   "source": [
    "import matplotlib.pyplot as plt\n",
    "\n",
    "plt.hist(train_358['mean_mag'])\n",
    "\n",
    "plt.xlabel('mean_mag values')\n",
    "plt.ylabel('Number of occurences')\n",
    "plt.title('Distribution of mean_mag values (user 358)')\n",
    "plt.grid(True)\n",
    "plt.show()\n"
   ]
  },
  {
   "cell_type": "code",
   "execution_count": 72,
   "metadata": {},
   "outputs": [
    {
     "data": {
      "image/png": "[encoded data removed]",
      "text/plain": [
       "<matplotlib.figure.Figure at 0x21812841dd8>"
      ]
     },
     "metadata": {},
     "output_type": "display_data"
    }
   ],
   "source": [
    "plt.hist(train_dirt_data['mean_mag'])\n",
    "\n",
    "plt.xlabel('mean_mag values')\n",
    "plt.ylabel('Number of occurences')\n",
    "plt.title('Distribution of mean_mag values (all users)')\n",
    "plt.grid(True)\n",
    "plt.show()\n"
   ]
  },
  {
   "cell_type": "code",
   "execution_count": 74,
   "metadata": {},
   "outputs": [
    {
     "name": "stdout",
     "output_type": "stream",
     "text": [
      "Unfortunately, almost 30% of the training data is just noise!\n",
      "\n",
      "Total number of samples: 37031\n",
      "Number of samples with mean_mag < 5: 10185\n",
      "Percentage of unusable training samples: 27.50%\n"
     ]
    }
   ],
   "source": [
    "print('Unfortunately, almost 30% of the training data is just noise!')\n",
    "print()\n",
    "print('Total number of samples: {}'.format(len(train_dirt_data)))\n",
    "print('Number of samples with mean_mag < 5: {}'.format(len(train_dirt_data[train_dirt_data.mean_mag<5])))\n",
    "perc = 100*len(train_dirt_data[train_dirt_data.mean_mag<5])/len(train_dirt_data)\n",
    "print('Percentage of unusable training samples: {:.2f}%'.format(perc))"
   ]
  },
  {
   "cell_type": "code",
   "execution_count": 83,
   "metadata": {},
   "outputs": [
    {
     "name": "stdout",
     "output_type": "stream",
     "text": [
      "Distribution of activities in removed noise\n",
      "Counter({2: 5092, 1: 3183, 4: 1019, 5: 560, 3: 167, 0: 164})\n",
      "Distribution of activities in train dataset\n",
      "Counter({5: 14909, 2: 9170, 0: 4587, 1: 4322, 4: 3359, 3: 684})\n"
     ]
    }
   ],
   "source": [
    "print('Distribution of activities in removed noise')\n",
    "print(Counter(train_dirt_data[train_dirt_data.mean_mag<5]['activity_id']))\n",
    "print('Distribution of activities in train dataset')\n",
    "print(Counter(train_dirt_data['activity_id']))"
   ]
  },
  {
   "cell_type": "code",
   "execution_count": null,
   "metadata": {
    "collapsed": true
   },
   "outputs": [],
   "source": []
  }
 ],
 "metadata": {
  "kernelspec": {
   "display_name": "Python [conda env:tensorflow]",
   "language": "python",
   "name": "conda-env-tensorflow-py"
  },
  "language_info": {
   "codemirror_mode": {
    "name": "ipython",
    "version": 3
   },
   "file_extension": ".py",
   "mimetype": "text/x-python",
   "name": "python",
   "nbconvert_exporter": "python",
   "pygments_lexer": "ipython3",
   "version": "3.5.2"
  },
  "nbpresent": {
   "slides": {
    "547b7433-1f13-4e51-bc38-61e2c6a8f4a4": {
     "id": "547b7433-1f13-4e51-bc38-61e2c6a8f4a4",
     "layout": "treemap",
     "prev": null,
     "regions": {
      "4e939d4c-2555-4b13-893c-8ffb2003d985": {
       "attrs": {
        "height": 1,
        "treemap:weight": 1,
        "width": 1,
        "x": 0,
        "y": 0
       },
       "content": {
        "cell": "88e17bfc-34a6-49a6-a42e-bb7cd0a3696d",
        "part": "whole"
       },
       "id": "4e939d4c-2555-4b13-893c-8ffb2003d985"
      }
     }
    }
   },
   "themes": {}
  }
 },
 "nbformat": 4,
 "nbformat_minor": 2
}
